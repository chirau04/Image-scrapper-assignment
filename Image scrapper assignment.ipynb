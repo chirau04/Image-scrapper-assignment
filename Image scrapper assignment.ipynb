{
 "cells": [
  {
   "cell_type": "markdown",
   "id": "eff9a659-a762-480d-96c8-d9c6651137d8",
   "metadata": {},
   "source": [
    "Certainly! To achieve this, you would typically use a combination of a web scraping library (like BeautifulSoup) and HTTP requests. However, keep in mind that web scraping should be done in compliance with the website's terms of service. Here's a simple example using Python and BeautifulSoup for YouTube:"
   ]
  },
  {
   "cell_type": "code",
   "execution_count": 1,
   "id": "0c99d7f5-d45a-47a4-8258-be999aa7a572",
   "metadata": {},
   "outputs": [],
   "source": [
    "import requests\n",
    "from bs4 import BeautifulSoup\n",
    "\n",
    "def get_video_urls():\n",
    "    url = \"https://www.youtube.com/results?search_query=query_here\"\n",
    "    response = requests.get(url)\n",
    "    \n",
    "    if response.status_code == 200:\n",
    "        soup = BeautifulSoup(response.text, 'html.parser')\n",
    "        video_links = soup.select('a#video-title')\n",
    "        \n",
    "        for i, link in enumerate(video_links[:5]):\n",
    "            video_url = \"https://www.youtube.com\" + link['href']\n",
    "            print(f\"Video {i+1}: {video_url}\")\n",
    "\n",
    "get_video_urls()"
   ]
  },
  {
   "cell_type": "markdown",
   "id": "4d9f0634-2f37-4fb0-931b-f9c4bc5a4129",
   "metadata": {},
   "source": [
    "Certainly! You can use a similar approach with BeautifulSoup to extract the video thumbnail URLs. Here's an example:"
   ]
  },
  {
   "cell_type": "code",
   "execution_count": 2,
   "id": "defd0f51-734b-4b1e-a9d5-05fd2fd1bdbe",
   "metadata": {},
   "outputs": [],
   "source": [
    "import requests\n",
    "from bs4 import BeautifulSoup\n",
    "\n",
    "def get_thumbnail_urls():\n",
    "    url = \"https://www.youtube.com/results?search_query=query_here\"\n",
    "    response = requests.get(url)\n",
    "    \n",
    "    if response.status_code == 200:\n",
    "        soup = BeautifulSoup(response.text, 'html.parser')\n",
    "        thumbnail_elements = soup.select('a#video-title')\n",
    "        \n",
    "        for i, element in enumerate(thumbnail_elements[:5]):\n",
    "            video_url = \"https://www.youtube.com\" + element['href']\n",
    "            thumbnail_url = element.find_next('img')['src']\n",
    "            print(f\"Video {i+1} - URL: {video_url}, Thumbnail: {thumbnail_url}\")\n",
    "\n",
    "get_thumbnail_urls()"
   ]
  },
  {
   "cell_type": "markdown",
   "id": "a91732d8-9fb6-43b7-81d5-bb3925abd519",
   "metadata": {},
   "source": [
    "Certainly! You can modify the script to extract the titles of the first five videos. Here's an example"
   ]
  },
  {
   "cell_type": "code",
   "execution_count": 3,
   "id": "024d7711-37f8-4228-8d03-d49ef3ffa624",
   "metadata": {},
   "outputs": [],
   "source": [
    "import requests\n",
    "from bs4 import BeautifulSoup\n",
    "\n",
    "def get_video_titles():\n",
    "    url = \"https://www.youtube.com/results?search_query=query_here\"\n",
    "    response = requests.get(url)\n",
    "    \n",
    "    if response.status_code == 200:\n",
    "        soup = BeautifulSoup(response.text, 'html.parser')\n",
    "        title_elements = soup.select('a#video-title')\n",
    "        \n",
    "        for i, element in enumerate(title_elements[:5]):\n",
    "            video_title = element.text.strip()\n",
    "            print(f\"Video {i+1} Title: {video_title}\")\n",
    "\n",
    "get_video_titles()"
   ]
  },
  {
   "cell_type": "markdown",
   "id": "1b5760a6-20f2-4b43-9de2-57f800657dd1",
   "metadata": {},
   "source": [
    "Certainly! You can adapt the script to extract the number of views for the first five videos. Here's an example:"
   ]
  },
  {
   "cell_type": "code",
   "execution_count": 4,
   "id": "85874eff-6cd9-4931-aacd-4fb30400ffc9",
   "metadata": {},
   "outputs": [],
   "source": [
    "import requests\n",
    "from bs4 import BeautifulSoup\n",
    "\n",
    "def get_video_views():\n",
    "    url = \"https://www.youtube.com/results?search_query=query_here\"\n",
    "    response = requests.get(url)\n",
    "    \n",
    "    if response.status_code == 200:\n",
    "        soup = BeautifulSoup(response.text, 'html.parser')\n",
    "        views_elements = soup.select('span.style-scope.ytd-video-meta-block')\n",
    "        \n",
    "        for i, element in enumerate(views_elements[:5]):\n",
    "            video_views = element.text.strip()\n",
    "            print(f\"Video {i+1} Views: {video_views}\")\n",
    "\n",
    "get_video_views()"
   ]
  },
  {
   "cell_type": "markdown",
   "id": "5d40e2e1-91cc-4f02-ae19-6f4b385e595a",
   "metadata": {},
   "source": [
    "Certainly! You can modify the script to extract the time of posting for the first five videos. Here's an example:"
   ]
  },
  {
   "cell_type": "code",
   "execution_count": null,
   "id": "b59362ae-304d-4066-8417-585e75017dd8",
   "metadata": {},
   "outputs": [],
   "source": []
  }
 ],
 "metadata": {
  "kernelspec": {
   "display_name": "Python 3 (ipykernel)",
   "language": "python",
   "name": "python3"
  },
  "language_info": {
   "codemirror_mode": {
    "name": "ipython",
    "version": 3
   },
   "file_extension": ".py",
   "mimetype": "text/x-python",
   "name": "python",
   "nbconvert_exporter": "python",
   "pygments_lexer": "ipython3",
   "version": "3.10.8"
  }
 },
 "nbformat": 4,
 "nbformat_minor": 5
}
